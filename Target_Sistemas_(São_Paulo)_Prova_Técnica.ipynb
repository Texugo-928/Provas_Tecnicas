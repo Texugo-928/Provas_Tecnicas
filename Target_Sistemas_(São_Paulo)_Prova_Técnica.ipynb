{
  "nbformat": 4,
  "nbformat_minor": 0,
  "metadata": {
    "colab": {
      "provenance": [],
      "authorship_tag": "ABX9TyNh+YGFaMcdVso9X3p4HkJQ",
      "include_colab_link": true
    },
    "kernelspec": {
      "name": "python3",
      "display_name": "Python 3"
    },
    "language_info": {
      "name": "python"
    }
  },
  "cells": [
    {
      "cell_type": "markdown",
      "metadata": {
        "id": "view-in-github",
        "colab_type": "text"
      },
      "source": [
        "<a href=\"https://colab.research.google.com/github/Texugo-928/Provas_Tecnicas/blob/main/Target_Sistemas_(S%C3%A3o_Paulo)_Prova_T%C3%A9cnica.ipynb\" target=\"_parent\"><img src=\"https://colab.research.google.com/assets/colab-badge.svg\" alt=\"Open In Colab\"/></a>"
      ]
    },
    {
      "cell_type": "markdown",
      "source": [
        "1) Observe o trecho de código abaixo:\n",
        "\n",
        "int INDICE = 13, SOMA = 0, K = 0;\n",
        "\n",
        "Enquanto K < INDICE faça { K = K + 1; SOMA = SOMA + K; }\n",
        "\n",
        "Imprimir(SOMA);\n",
        "\n",
        "Ao final do processamento, qual será o valor da variável SOMA?"
      ],
      "metadata": {
        "id": "qO64-EzCEXI7"
      }
    },
    {
      "cell_type": "code",
      "source": [
        "INDICE = 13\n",
        "SOMA = 0\n",
        "K = 0\n",
        "\n",
        "while K < INDICE:\n",
        "    K = K + 1\n",
        "    SOMA = SOMA + K\n",
        "\n",
        "print(f\"O valor da variável SOMA é\", SOMA)"
      ],
      "metadata": {
        "colab": {
          "base_uri": "https://localhost:8080/"
        },
        "id": "Eu3ubhbCHPDr",
        "outputId": "ef482a96-7776-4b3e-c65b-c06600ab0286"
      },
      "execution_count": 22,
      "outputs": [
        {
          "output_type": "stream",
          "name": "stdout",
          "text": [
            "O valor da variável SOMA é 91\n"
          ]
        }
      ]
    },
    {
      "cell_type": "code",
      "execution_count": null,
      "metadata": {
        "id": "vy20v0D_EWMp"
      },
      "outputs": [],
      "source": [
        "'''\n",
        "Resposta:\n",
        "\n",
        "O valor da variável SOMA é 91\n",
        "'''"
      ]
    },
    {
      "cell_type": "markdown",
      "source": [
        "2) Dado a sequência de Fibonacci, onde se inicia por 0 e 1 e o próximo valor sempre será a soma dos 2 valores anteriores (exemplo: 0, 1, 1, 2, 3, 5, 8, 13, 21, 34...), escreva um programa na linguagem que desejar onde, informado um número, ele calcule a sequência de Fibonacci e retorne uma mensagem avisando se o número informado pertence ou não a sequência.\n",
        "\n",
        "IMPORTANTE: Esse número pode ser informado através de qualquer entrada de sua preferência ou pode ser previamente definido no código;"
      ],
      "metadata": {
        "id": "iLtdzL-YFpCd"
      }
    },
    {
      "cell_type": "code",
      "source": [
        "a = 0\n",
        "b = 1\n",
        "aux = 0\n",
        "#lista = [a, b]\n",
        "\n",
        "number = int(input(\"Informe um número para verificar se pertence à sequência de Fibonacci: \"))\n",
        "\n",
        "while a < number:\n",
        "    aux = a\n",
        "    a = b\n",
        "    b = aux + b\n",
        "    #lista.append(b)\n",
        "\n",
        "if a == number:\n",
        "    print()\n",
        "    print(f\"O número {number} pertence à sequência de Fibonacci.\")\n",
        "    #print(lista)\n",
        "else:\n",
        "    print()\n",
        "    print(f\"O número {number} não pertence à sequência de Fibonacci.\")\n",
        "    #print(lista)"
      ],
      "metadata": {
        "colab": {
          "base_uri": "https://localhost:8080/"
        },
        "id": "kilgd8kTGF_w",
        "outputId": "59ce1ea8-4043-4c80-b296-13184e7ffd7a"
      },
      "execution_count": 7,
      "outputs": [
        {
          "output_type": "stream",
          "name": "stdout",
          "text": [
            "Informe um número para verificar se pertence à sequência de Fibonacci: 12\n",
            "\n",
            "O número 12 não pertence à sequência de Fibonacci.\n"
          ]
        }
      ]
    },
    {
      "cell_type": "code",
      "source": [
        "'''\n",
        "Resposta:\n",
        "\n",
        "Informe um número para verificar se pertence à sequência de Fibonacci: 12\n",
        "\n",
        "O número 12 não pertence à sequência de Fibonacci.\n",
        "'''"
      ],
      "metadata": {
        "id": "WTjGmZe-UhEB"
      },
      "execution_count": null,
      "outputs": []
    },
    {
      "cell_type": "markdown",
      "source": [
        "3) Dado um vetor que guarda o valor de faturamento diário de uma distribuidora, faça um programa, na linguagem que desejar, que calcule e retorne:\n",
        "\n",
        "• O menor valor de faturamento ocorrido em um dia do mês;\n",
        "\n",
        "• O maior valor de faturamento ocorrido em um dia do mês;\n",
        "\n",
        "• Número de dias no mês em que o valor de faturamento diário foi superior à média mensal.\n",
        "\n",
        "IMPORTANTE:\n",
        "\n",
        "a) Usar o json ou xml disponível como fonte dos dados do faturamento mensal;\n",
        "\n",
        "b) Podem existir dias sem faturamento, como nos finais de semana e feriados. Estes dias devem ser ignorados no cálculo da média;"
      ],
      "metadata": {
        "id": "VcIUw0pHFxKw"
      }
    },
    {
      "cell_type": "code",
      "source": [
        "# Importar a biblioteca JSON\n",
        "import json\n",
        "\n",
        "# Carregar o arquivo JSON\n",
        "with open('dados.json') as file:\n",
        "    dados = json.load(file)\n",
        "\n",
        "# Mostrar os dados para entender a estrutura\n",
        "print(dados)\n",
        "print()\n",
        "\n",
        "# Extrair os valores de faturamento\n",
        "valores = [dia['valor'] for dia in dados]\n",
        "\n",
        "# Encontrar o menor valor de faturamento\n",
        "menor_valor = min(valores)\n",
        "print(f\"O menor valor de faturamento ocorrido em um dia do mês é: {menor_valor}\")\n",
        "print()\n",
        "\n",
        "# Encontrar o maior valor de faturamento\n",
        "maior_valor = max(valores)\n",
        "print(f\"O maior valor de faturamento ocorrido em um dia do mês é: {maior_valor}\")\n",
        "print()\n",
        "\n",
        "# Calcular a média mensal de faturamento\n",
        "media_mensal = sum(valores) / len(valores)\n",
        "print(f\"A média mensal de faturamento é: {media_mensal}\")\n",
        "print()\n",
        "\n",
        "# Contar o número de dias com faturamento superior à média\n",
        "dias_acima_da_media = sum(1 for valor in valores if valor > media_mensal)\n",
        "print(f\"Número de dias no mês em que o valor de faturamento diário foi superior à média mensal: {dias_acima_da_media}\")"
      ],
      "metadata": {
        "colab": {
          "base_uri": "https://localhost:8080/"
        },
        "id": "hbdADtxfSYXB",
        "outputId": "c842430d-4201-4e10-ea00-4b784523b252"
      },
      "execution_count": 19,
      "outputs": [
        {
          "output_type": "stream",
          "name": "stdout",
          "text": [
            "[{'dia': 1, 'valor': 22174.1664}, {'dia': 2, 'valor': 24537.6698}, {'dia': 3, 'valor': 26139.6134}, {'dia': 4, 'valor': 0.0}, {'dia': 5, 'valor': 0.0}, {'dia': 6, 'valor': 26742.6612}, {'dia': 7, 'valor': 0.0}, {'dia': 8, 'valor': 42889.2258}, {'dia': 9, 'valor': 46251.174}, {'dia': 10, 'valor': 11191.4722}, {'dia': 11, 'valor': 0.0}, {'dia': 12, 'valor': 0.0}, {'dia': 13, 'valor': 3847.4823}, {'dia': 14, 'valor': 373.7838}, {'dia': 15, 'valor': 2659.7563}, {'dia': 16, 'valor': 48924.2448}, {'dia': 17, 'valor': 18419.2614}, {'dia': 18, 'valor': 0.0}, {'dia': 19, 'valor': 0.0}, {'dia': 20, 'valor': 35240.1826}, {'dia': 21, 'valor': 43829.1667}, {'dia': 22, 'valor': 18235.6852}, {'dia': 23, 'valor': 4355.0662}, {'dia': 24, 'valor': 13327.1025}, {'dia': 25, 'valor': 0.0}, {'dia': 26, 'valor': 0.0}, {'dia': 27, 'valor': 25681.8318}, {'dia': 28, 'valor': 1718.1221}, {'dia': 29, 'valor': 13220.495}, {'dia': 30, 'valor': 8414.61}]\n",
            "\n",
            "O menor valor de faturamento ocorrido em um dia do mês é: 0.0\n",
            "\n",
            "O maior valor de faturamento ocorrido em um dia do mês é: 48924.2448\n",
            "\n",
            "A média mensal de faturamento é: 14605.759116666664\n",
            "\n",
            "Número de dias no mês em que o valor de faturamento diário foi superior à média mensal: 12\n"
          ]
        }
      ]
    },
    {
      "cell_type": "code",
      "source": [
        "'''\n",
        "Resposta:\n",
        "\n",
        "[{'dia': 1, 'valor': 22174.1664}, {'dia': 2, 'valor': 24537.6698}, {'dia': 3, 'valor': 26139.6134}, {'dia': 4, 'valor': 0.0}, {'dia': 5, 'valor': 0.0}, {'dia': 6, 'valor': 26742.6612}, {'dia': 7, 'valor': 0.0}, {'dia': 8, 'valor': 42889.2258}, {'dia': 9, 'valor': 46251.174}, {'dia': 10, 'valor': 11191.4722}, {'dia': 11, 'valor': 0.0}, {'dia': 12, 'valor': 0.0}, {'dia': 13, 'valor': 3847.4823}, {'dia': 14, 'valor': 373.7838}, {'dia': 15, 'valor': 2659.7563}, {'dia': 16, 'valor': 48924.2448}, {'dia': 17, 'valor': 18419.2614}, {'dia': 18, 'valor': 0.0}, {'dia': 19, 'valor': 0.0}, {'dia': 20, 'valor': 35240.1826}, {'dia': 21, 'valor': 43829.1667}, {'dia': 22, 'valor': 18235.6852}, {'dia': 23, 'valor': 4355.0662}, {'dia': 24, 'valor': 13327.1025}, {'dia': 25, 'valor': 0.0}, {'dia': 26, 'valor': 0.0}, {'dia': 27, 'valor': 25681.8318}, {'dia': 28, 'valor': 1718.1221}, {'dia': 29, 'valor': 13220.495}, {'dia': 30, 'valor': 8414.61}]\n",
        "\n",
        "O menor valor de faturamento ocorrido em um dia do mês é: 0.0\n",
        "\n",
        "O maior valor de faturamento ocorrido em um dia do mês é: 48924.2448\n",
        "\n",
        "A média mensal de faturamento é: 14605.759116666664\n",
        "\n",
        "Número de dias no mês em que o valor de faturamento diário foi superior à média mensal: 12\n",
        "'''"
      ],
      "metadata": {
        "id": "KG5T1oCdUriP"
      },
      "execution_count": null,
      "outputs": []
    },
    {
      "cell_type": "markdown",
      "source": [
        "4) Dado o valor de faturamento mensal de uma distribuidora, detalhado por estado:\n",
        "\n",
        "• SP – R$67.836,43\n",
        "\n",
        "• RJ – R$36.678,66\n",
        "\n",
        "• MG – R$29.229,88\n",
        "\n",
        "• ES – R$27.165,48\n",
        "\n",
        "• Outros – R$19.849,53\n",
        "\n",
        "Escreva um programa na linguagem que desejar onde calcule o percentual de representação que cada estado teve dentro do valor total mensal da distribuidora."
      ],
      "metadata": {
        "id": "s1dVmY15F35C"
      }
    },
    {
      "cell_type": "code",
      "source": [
        "dict_vendas = {\n",
        "    \"SP\": 67836.43,\n",
        "    \"RJ\": 36678.66,\n",
        "    \"MG\": 29229.88,\n",
        "    \"ES\": 27165.48,\n",
        "    \"Outros\": 19849.53\n",
        "       }\n",
        "\n",
        "soma = sum(dict_vendas.values())\n",
        "\n",
        "print(soma)\n",
        "print()\n",
        "\n",
        "lista_percentual = []\n",
        "\n",
        "for valor in dict_vendas.values():\n",
        "    percentual = valor / soma * 100\n",
        "    lista_percentual.append(percentual)\n",
        "\n",
        "print(lista_percentual)\n",
        "print()\n",
        "\n",
        "for estado, percentual in zip(dict_vendas.keys(), lista_percentual):\n",
        "    print(f\"{estado}: {percentual:.2f}%\")"
      ],
      "metadata": {
        "colab": {
          "base_uri": "https://localhost:8080/"
        },
        "id": "C5h3POTaGHVQ",
        "outputId": "304bb8aa-219e-4825-920a-d03ca61e0ec3"
      },
      "execution_count": 13,
      "outputs": [
        {
          "output_type": "stream",
          "name": "stdout",
          "text": [
            "180759.98\n",
            "\n",
            "[37.52845624346716, 20.291360952794975, 16.170548370275323, 15.028481414968068, 10.981153018494469]\n",
            "\n",
            "SP: 37.53%\n",
            "RJ: 20.29%\n",
            "MG: 16.17%\n",
            "ES: 15.03%\n",
            "Outros: 10.98%\n"
          ]
        }
      ]
    },
    {
      "cell_type": "code",
      "source": [
        "'''\n",
        "Resposta:\n",
        "\n",
        "180759.98\n",
        "\n",
        "[37.52845624346716, 20.291360952794975, 16.170548370275323, 15.028481414968068, 10.981153018494469]\n",
        "\n",
        "SP: 37.53%\n",
        "RJ: 20.29%\n",
        "MG: 16.17%\n",
        "ES: 15.03%\n",
        "Outros: 10.98%\n",
        "'''"
      ],
      "metadata": {
        "id": "dJIyN3RKU3Vh"
      },
      "execution_count": null,
      "outputs": []
    },
    {
      "cell_type": "markdown",
      "source": [
        "5) Escreva um programa que inverta os caracteres de um string.\n",
        "\n",
        "\n",
        "IMPORTANTE:\n",
        "\n",
        "a) Essa string pode ser informada através de qualquer entrada de sua preferência ou pode ser previamente definida no código;\n",
        "\n",
        "b) Evite usar funções prontas, como, por exemplo, reverse;"
      ],
      "metadata": {
        "id": "3MbjQNF7GBEx"
      }
    },
    {
      "cell_type": "code",
      "source": [
        "string = input(\"Informe uma string para inverter: \")\n",
        "\n",
        "invertida = ''\n",
        "\n",
        "for char in string:\n",
        "    invertida = char + invertida\n",
        "\n",
        "print()\n",
        "print(f\"String invertida: {invertida}\")"
      ],
      "metadata": {
        "colab": {
          "base_uri": "https://localhost:8080/"
        },
        "id": "3CvwdOpyGH9Z",
        "outputId": "91e3b483-9c2c-492e-b6e5-20110629336f"
      },
      "execution_count": 17,
      "outputs": [
        {
          "output_type": "stream",
          "name": "stdout",
          "text": [
            "Informe uma string para inverter: conforme\n",
            "\n",
            "String invertida: emrofnoc\n"
          ]
        }
      ]
    },
    {
      "cell_type": "code",
      "source": [
        "'''\n",
        "Resposta:\n",
        "\n",
        "Informe uma string para inverter: conforme\n",
        "\n",
        "String invertida: emrofnoc\n",
        "'''"
      ],
      "metadata": {
        "id": "Gonqaxh-U9Eg"
      },
      "execution_count": null,
      "outputs": []
    }
  ]
}