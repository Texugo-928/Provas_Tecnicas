{
  "nbformat": 4,
  "nbformat_minor": 0,
  "metadata": {
    "colab": {
      "provenance": [],
      "authorship_tag": "ABX9TyNfyjgxdC2m5Uj95dKUl2gW",
      "include_colab_link": true
    },
    "kernelspec": {
      "name": "python3",
      "display_name": "Python 3"
    },
    "language_info": {
      "name": "python"
    }
  },
  "cells": [
    {
      "cell_type": "markdown",
      "metadata": {
        "id": "view-in-github",
        "colab_type": "text"
      },
      "source": [
        "<a href=\"https://colab.research.google.com/github/Texugo-928/Provas_Tecnicas/blob/main/Target_Sistemas_(Ribeir%C3%A3o_Preto)_Prova_T%C3%A9cnica.ipynb\" target=\"_parent\"><img src=\"https://colab.research.google.com/assets/colab-badge.svg\" alt=\"Open In Colab\"/></a>"
      ]
    },
    {
      "cell_type": "markdown",
      "source": [
        "1) Dado a sequência de Fibonacci, onde se inicia por 0 e 1 e o próximo valor sempre será a soma dos 2 valores anteriores (exemplo: 0, 1, 1, 2, 3, 5, 8, 13, 21, 34...), escreva um programa na linguagem que desejar onde, informado um número, ele calcule a sequência de Fibonacci e retorne uma mensagem avisando se o número informado pertence ou não a sequência.\n",
        "\n",
        "IMPORTANTE: Esse número pode ser informado através de qualquer entrada de sua preferência ou pode ser previamente definido no código;\n",
        "\n"
      ],
      "metadata": {
        "id": "uEJ18brhcAiT"
      }
    },
    {
      "cell_type": "code",
      "execution_count": 1,
      "metadata": {
        "colab": {
          "base_uri": "https://localhost:8080/"
        },
        "id": "jUlq9y4vb665",
        "outputId": "eba8a563-83f8-4ca9-cf5a-4db037ce8e25"
      },
      "outputs": [
        {
          "output_type": "stream",
          "name": "stdout",
          "text": [
            "Informe um número para verificar se pertence à sequência de Fibonacci: 13\n",
            "\n",
            "O número 13 pertence à sequência de Fibonacci.\n"
          ]
        }
      ],
      "source": [
        "a = 0\n",
        "b = 1\n",
        "aux = 0\n",
        "#lista = [a, b]\n",
        "\n",
        "number = int(input(\"Informe um número para verificar se pertence à sequência de Fibonacci: \"))\n",
        "\n",
        "while a < number:\n",
        "    aux = a\n",
        "    a = b\n",
        "    b = aux + b\n",
        "    #lista.append(b)\n",
        "\n",
        "if a == number:\n",
        "    print()\n",
        "    print(f\"O número {number} pertence à sequência de Fibonacci.\")\n",
        "    #print(lista)\n",
        "else:\n",
        "    print()\n",
        "    print(f\"O número {number} não pertence à sequência de Fibonacci.\")\n",
        "    #print(lista)"
      ]
    },
    {
      "cell_type": "code",
      "source": [
        "'''\n",
        "Resposta:\n",
        "\n",
        "Informe um número para verificar se pertence à sequência de Fibonacci: 13\n",
        "\n",
        "O número 13 pertence à sequência de Fibonacci.\n",
        "'''"
      ],
      "metadata": {
        "id": "c9fAyZpce4GN"
      },
      "execution_count": null,
      "outputs": []
    },
    {
      "cell_type": "markdown",
      "source": [
        "2) Escreva um programa que verifique, em uma string, a existência da letra ‘a’, seja maiúscula ou minúscula, além de informar a quantidade de vezes em que ela ocorre.\n",
        "\n",
        "IMPORTANTE: Essa string pode ser informada através de qualquer entrada de sua preferência ou pode ser previamente definida no código;\n",
        "\n"
      ],
      "metadata": {
        "id": "bh72XBWzcG3J"
      }
    },
    {
      "cell_type": "code",
      "source": [
        "string = input(\"Informe uma string para verificar a ocorrência da letra 'a': \")\n",
        "print()\n",
        "\n",
        "quantidade_a = string.lower().count('a')\n",
        "quantidade_a1 = string.lower().count('á')\n",
        "quantidade_a2 = string.lower().count('à')\n",
        "quantidade_a3 = string.lower().count('â')\n",
        "\n",
        "quantidade = quantidade_a + quantidade_a1 + quantidade_a2 + quantidade_a3\n",
        "\n",
        "if quantidade > 0:\n",
        "    print(f\"A letra 'a' (maiúscula ou minúscula) aparece {quantidade} vezes na string.\")\n",
        "else:\n",
        "    print(\"A letra 'a' (maiúscula ou minúscula) não aparece na string.\")"
      ],
      "metadata": {
        "colab": {
          "base_uri": "https://localhost:8080/"
        },
        "id": "CKhZjND7cOPo",
        "outputId": "aa21b889-0087-4807-c9ca-28d7963a191c"
      },
      "execution_count": 4,
      "outputs": [
        {
          "output_type": "stream",
          "name": "stdout",
          "text": [
            "Informe uma string para verificar a ocorrência da letra 'a': câmara\n",
            "\n",
            "A letra 'a' (maiúscula ou minúscula) aparece 3 vezes na string.\n"
          ]
        }
      ]
    },
    {
      "cell_type": "code",
      "source": [
        "'''\n",
        "Resposta:\n",
        "\n",
        "Informe uma string para verificar a ocorrência da letra 'a': câmara\n",
        "\n",
        "A letra 'a' (maiúscula ou minúscula) aparece 3 vezes na string.\n",
        "'''"
      ],
      "metadata": {
        "id": "wg3KPZouf3_6"
      },
      "execution_count": null,
      "outputs": []
    },
    {
      "cell_type": "markdown",
      "source": [
        "3) Observe o trecho de código abaixo: int INDICE = 12, SOMA = 0, K = 1; enquanto K < INDICE faça { K = K + 1; SOMA = SOMA + K; } imprimir(SOMA);\n",
        "\n",
        "Ao final do processamento, qual será o valor da variável SOMA?\n",
        "\n"
      ],
      "metadata": {
        "id": "F6FukiopcI9Y"
      }
    },
    {
      "cell_type": "code",
      "source": [
        "INDICE = 12\n",
        "SOMA = 0\n",
        "K = 1\n",
        "\n",
        "while K < INDICE:\n",
        "    K = K + 1\n",
        "    SOMA = SOMA + K\n",
        "\n",
        "print(f\"O valor da variável SOMA é\", SOMA)"
      ],
      "metadata": {
        "colab": {
          "base_uri": "https://localhost:8080/"
        },
        "id": "Ol_XLWo3cO3Z",
        "outputId": "8d181403-6b8f-42d8-d843-c0edd371319b"
      },
      "execution_count": 5,
      "outputs": [
        {
          "output_type": "stream",
          "name": "stdout",
          "text": [
            "O valor da variável SOMA é 77\n"
          ]
        }
      ]
    },
    {
      "cell_type": "code",
      "source": [
        "'''\n",
        "Resposta:\n",
        "\n",
        "O valor da variável SOMA é 77\n",
        "'''"
      ],
      "metadata": {
        "id": "5Kfzj3RTgtVa"
      },
      "execution_count": null,
      "outputs": []
    },
    {
      "cell_type": "markdown",
      "source": [
        "4) Descubra a lógica e complete o próximo elemento:\n",
        "\n",
        "a) 1, 3, 5, 7, ___\n",
        "\n",
        "b) 2, 4, 8, 16, 32, 64, ____\n",
        "\n",
        "c) 0, 1, 4, 9, 16, 25, 36, ____\n",
        "\n",
        "d) 4, 16, 36, 64, ____\n",
        "\n",
        "e) 1, 1, 2, 3, 5, 8, ____\n",
        "\n",
        "f) 2,10, 12, 16, 17, 18, 19, ____\n",
        "\n",
        "\n"
      ],
      "metadata": {
        "id": "wF1U22oacK9o"
      }
    },
    {
      "cell_type": "code",
      "source": [
        "'''\n",
        "Resposta:\n",
        "\n",
        "a) 1, 3, 5, 7, ...9...\n",
        "\n",
        "b) 2, 4, 8, 16, 32, 64, ...128...\n",
        "\n",
        "c) 0, 1, 4, 9, 16, 25, 36, ...49...\n",
        "\n",
        "d) 4, 16, 36, 64, ...100...\n",
        "\n",
        "e) 1, 1, 2, 3, 5, 8, ...13...\n",
        "\n",
        "f) 2, 10, 12, 16, 17, 18, 19, |...20...|\n",
        "'''"
      ],
      "metadata": {
        "id": "s_Qguk7zcPnY"
      },
      "execution_count": null,
      "outputs": []
    },
    {
      "cell_type": "markdown",
      "source": [
        "5) Você está em uma sala com três interruptores, cada um conectado a uma lâmpada em salas diferentes. Você não pode ver as lâmpadas da sala em que está, mas pode ligar e desligar os interruptores quantas vezes quiser. Seu objetivo é descobrir qual interruptor controla qual lâmpada. Como você faria para descobrir, usando apenas duas idas até uma das salas das lâmpadas, qual interruptor controla cada lâmpada?"
      ],
      "metadata": {
        "id": "QWLQ6J6KcMeC"
      }
    },
    {
      "cell_type": "code",
      "source": [
        "'''\n",
        "Resposta:\n",
        "\n",
        "1. Deixo todos os interruptores (A, B, C) desligados por um bom período de tempo para garantir que as lâmpadas estejam frias\n",
        "\n",
        "2. Ligo dois interruptores (A, B) também por um bom período para garantir que as lâmpadas estejam aquecidas\n",
        "\n",
        "3. Desligo o interruptor B\n",
        "\n",
        "4. Vou para uma das salas e verifico se a lâmpada está acesa\n",
        "\n",
        "    CASE 1. Caso a lâmpada esteja acesa, posso garantir que essa sala (SALA 1) está relacionada ao interruptor A\n",
        "\n",
        "        5. Ligo o interruptor B\n",
        "\n",
        "        6. Vou para uma das salas restantes\n",
        "\n",
        "        7. Verifico se a lâmpada está acesa\n",
        "\n",
        "            CASE 1.1. Caso a lâmpada esteja acesa, posso garantir que essa sala (SALA 2) está relacionada ao interruptor B\n",
        "\n",
        "            CASE 1.2. Caso contrário, posso garantir que essa sala (SALA 2) está relacionada ao interruptor C\n",
        "\n",
        "        ___8. Independente do CASE 1.1 ou 1.2, saberei o relacionamento das salas com os interruptores___\n",
        "\n",
        "    CASE 2. Caso a lâmpada não esteja acesa, verifico se ela está quente ou fria\n",
        "\n",
        "            CASE 2.1. Caso a lâmpada esteja quente, posso garantir que essa sala (SALA 1) está relacionada ao interruptor B\n",
        "\n",
        "                5. Vou para uma das salas restantes\n",
        "\n",
        "                6. Verifico se a lâmpada está acesa\n",
        "\n",
        "                    CASE 2.1.1. Caso a lâmpada esteja acesa, posso garantir que essa sala (SALA 2) está relacionada ao interruptor A\n",
        "\n",
        "                    CASE 2.1.2. Caso contrário, posso garantir que essa sala (SALA 2) está relacionada ao interruptor C\n",
        "\n",
        "                ___7. Independente do CASE 2.1.1 ou 2.1.2, saberei o relacionamento das salas com os interruptores___\n",
        "\n",
        "            CASE 2.2. Caso contrário, posso garantir que essa sala (SALA 1) está relacionada ao interruptor C\n",
        "\n",
        "                5. Vou para uma das salas restantes\n",
        "\n",
        "                6. Verifico se a lâmpada está acesa\n",
        "\n",
        "                    CASE 2.2.1. Caso a lâmpada esteja acesa, posso garantir que essa sala (SALA 2) está relacionada ao interruptor A\n",
        "\n",
        "                    CASE 2.2.2. Caso contrário, posso garantir que essa sala (SALA 2) está relacionada ao interruptor B\n",
        "\n",
        "                ___7. Independente do CASE 2.2.1 ou 2.2.2, saberei o relacionamento das salas com os interruptores___\n",
        "'''"
      ],
      "metadata": {
        "id": "MBCt1Wx-cQCo"
      },
      "execution_count": null,
      "outputs": []
    }
  ]
}